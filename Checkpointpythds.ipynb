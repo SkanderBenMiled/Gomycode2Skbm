{
  "nbformat": 4,
  "nbformat_minor": 0,
  "metadata": {
    "colab": {
      "provenance": [],
      "authorship_tag": "ABX9TyMeZSi6iZVcn5tMoIZ0rUH0",
      "include_colab_link": true
    },
    "kernelspec": {
      "name": "python3",
      "display_name": "Python 3"
    },
    "language_info": {
      "name": "python"
    }
  },
  "cells": [
    {
      "cell_type": "markdown",
      "metadata": {
        "id": "view-in-github",
        "colab_type": "text"
      },
      "source": [
        "<a href=\"https://colab.research.google.com/github/SkanderBenMiled/Gomycode2Skbm/blob/main/Checkpointpythds.ipynb\" target=\"_parent\"><img src=\"https://colab.research.google.com/assets/colab-badge.svg\" alt=\"Open In Colab\"/></a>"
      ]
    },
    {
      "cell_type": "code",
      "execution_count": 4,
      "metadata": {
        "colab": {
          "base_uri": "https://localhost:8080/"
        },
        "id": "Ua1ZyDWUxpIb",
        "outputId": "476dc067-71b7-4cd8-db7e-13750c9338ff"
      },
      "outputs": [
        {
          "output_type": "stream",
          "name": "stdout",
          "text": [
            "\n",
            "Shopping List Menu:\n",
            "1. Add item\n",
            "2. Remove item\n",
            "3. View list\n",
            "4.Exit\n",
            "Enter your choice (1/2/3/4): 1\n",
            "Enter the item to add: Apples\n",
            "Apples has been added\n",
            "\n",
            "Shopping List Menu:\n",
            "1. Add item\n",
            "2. Remove item\n",
            "3. View list\n",
            "4.Exit\n",
            "Enter your choice (1/2/3/4): 2\n",
            "Enter the item to removeApples\n",
            "'Apples' has been removed from the shopping list.\n",
            "\n",
            "Shopping List Menu:\n",
            "1. Add item\n",
            "2. Remove item\n",
            "3. View list\n",
            "4.Exit\n",
            "Enter your choice (1/2/3/4): 3\n",
            "The shopping list is empty.\n",
            "\n",
            "Shopping List Menu:\n",
            "1. Add item\n",
            "2. Remove item\n",
            "3. View list\n",
            "4.Exit\n",
            "Enter your choice (1/2/3/4): 1\n",
            "Enter the item to add: Chrab\n",
            "Chrab has been added\n",
            "\n",
            "Shopping List Menu:\n",
            "1. Add item\n",
            "2. Remove item\n",
            "3. View list\n",
            "4.Exit\n",
            "Enter your choice (1/2/3/4): 3\n",
            "\n",
            "Current shopping List:\n",
            "1. Chrab\n",
            "\n",
            "Shopping List Menu:\n",
            "1. Add item\n",
            "2. Remove item\n",
            "3. View list\n",
            "4.Exit\n",
            "Enter your choice (1/2/3/4): 4\n",
            "Exiting the program\n"
          ]
        }
      ],
      "source": [
        "shopping_list = []\n",
        "max_items = 5\n",
        "while True:\n",
        "    print(\"\\nShopping List Menu:\")\n",
        "    print(\"1. Add item\")\n",
        "    print(\"2. Remove item\")\n",
        "    print(\"3. View list\")\n",
        "    print(\"4.Exit\")\n",
        "    choice = input(\"Enter your choice (1/2/3/4): \").strip()\n",
        "    if choice == \"1\":\n",
        "      if len(shopping_list) < max_items:\n",
        "        item = input(\"Enter the item to add: \").strip()\n",
        "        shopping_list.append(item)\n",
        "        print(f\"{item} has been added\")\n",
        "      else:\n",
        "        print(f\"Too much items you have to delete one\")\n",
        "    elif choice == \"2\":\n",
        "      item = input(\"Enter the item to remove\").strip()\n",
        "      if item in shopping_list:\n",
        "        shopping_list.remove(item)\n",
        "        print(f\"'{item}' has been removed from the shopping list.\")\n",
        "      else:\n",
        "        print(f\"{item} is not in the list\")\n",
        "    elif choice == \"3\":\n",
        "      if shopping_list:\n",
        "        print(\"\\nCurrent shopping List:\")\n",
        "        for i, item in enumerate(shopping_list, start=1):\n",
        "            print(f\"{i}. {item}\")\n",
        "      else:\n",
        "        print(\"The shopping list is empty.\")\n",
        "\n",
        "    elif choice == \"4\":\n",
        "      print(\"Exiting the program\")\n",
        "      break\n",
        "\n",
        "    else:\n",
        "      print(\"Invalid choice\")"
      ]
    },
    {
      "cell_type": "code",
      "source": [],
      "metadata": {
        "id": "D5QNwSC3xq2e"
      },
      "execution_count": null,
      "outputs": []
    }
  ]
}